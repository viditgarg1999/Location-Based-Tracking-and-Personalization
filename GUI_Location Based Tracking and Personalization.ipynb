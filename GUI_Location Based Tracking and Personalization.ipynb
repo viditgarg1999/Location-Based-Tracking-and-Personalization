{
 "cells": [
  {
   "cell_type": "markdown",
   "metadata": {},
   "source": [
    "## Importing the Libraries"
   ]
  },
  {
   "cell_type": "code",
   "execution_count": 1,
   "metadata": {},
   "outputs": [],
   "source": [
    "from tkinter import *\n",
    "import pandas as pd"
   ]
  },
  {
   "cell_type": "markdown",
   "metadata": {},
   "source": [
    "## Setting the Background"
   ]
  },
  {
   "cell_type": "code",
   "execution_count": 2,
   "metadata": {},
   "outputs": [],
   "source": [
    "root = Tk()\n",
    "root.configure(background='black')\n",
    "filename = PhotoImage(file = \"desktop/img1.png\")\n",
    "background_label = Label(root, image=filename)\n",
    "background_label.place(x=0, y=0, relwidth=1, relheight=1)"
   ]
  },
  {
   "cell_type": "markdown",
   "metadata": {},
   "source": [
    "## Importing the Dataset"
   ]
  },
  {
   "cell_type": "code",
   "execution_count": 3,
   "metadata": {},
   "outputs": [
    {
     "data": {
      "text/html": [
       "<div>\n",
       "<style scoped>\n",
       "    .dataframe tbody tr th:only-of-type {\n",
       "        vertical-align: middle;\n",
       "    }\n",
       "\n",
       "    .dataframe tbody tr th {\n",
       "        vertical-align: top;\n",
       "    }\n",
       "\n",
       "    .dataframe thead th {\n",
       "        text-align: right;\n",
       "    }\n",
       "</style>\n",
       "<table border=\"1\" class=\"dataframe\">\n",
       "  <thead>\n",
       "    <tr style=\"text-align: right;\">\n",
       "      <th></th>\n",
       "      <th>Age</th>\n",
       "      <th>Gender</th>\n",
       "      <th>F Type</th>\n",
       "      <th>type</th>\n",
       "    </tr>\n",
       "  </thead>\n",
       "  <tbody>\n",
       "    <tr>\n",
       "      <th>0</th>\n",
       "      <td>31</td>\n",
       "      <td>1</td>\n",
       "      <td>0</td>\n",
       "      <td>5</td>\n",
       "    </tr>\n",
       "    <tr>\n",
       "      <th>1</th>\n",
       "      <td>31</td>\n",
       "      <td>1</td>\n",
       "      <td>0</td>\n",
       "      <td>3</td>\n",
       "    </tr>\n",
       "    <tr>\n",
       "      <th>2</th>\n",
       "      <td>33</td>\n",
       "      <td>1</td>\n",
       "      <td>0</td>\n",
       "      <td>3</td>\n",
       "    </tr>\n",
       "    <tr>\n",
       "      <th>3</th>\n",
       "      <td>27</td>\n",
       "      <td>1</td>\n",
       "      <td>0</td>\n",
       "      <td>4</td>\n",
       "    </tr>\n",
       "    <tr>\n",
       "      <th>4</th>\n",
       "      <td>27</td>\n",
       "      <td>1</td>\n",
       "      <td>0</td>\n",
       "      <td>3</td>\n",
       "    </tr>\n",
       "    <tr>\n",
       "      <th>5</th>\n",
       "      <td>27</td>\n",
       "      <td>1</td>\n",
       "      <td>0</td>\n",
       "      <td>4</td>\n",
       "    </tr>\n",
       "    <tr>\n",
       "      <th>6</th>\n",
       "      <td>22</td>\n",
       "      <td>0</td>\n",
       "      <td>1</td>\n",
       "      <td>1</td>\n",
       "    </tr>\n",
       "    <tr>\n",
       "      <th>7</th>\n",
       "      <td>22</td>\n",
       "      <td>1</td>\n",
       "      <td>0</td>\n",
       "      <td>3</td>\n",
       "    </tr>\n",
       "    <tr>\n",
       "      <th>8</th>\n",
       "      <td>17</td>\n",
       "      <td>0</td>\n",
       "      <td>0</td>\n",
       "      <td>4</td>\n",
       "    </tr>\n",
       "    <tr>\n",
       "      <th>9</th>\n",
       "      <td>17</td>\n",
       "      <td>0</td>\n",
       "      <td>0</td>\n",
       "      <td>5</td>\n",
       "    </tr>\n",
       "    <tr>\n",
       "      <th>10</th>\n",
       "      <td>39</td>\n",
       "      <td>1</td>\n",
       "      <td>0</td>\n",
       "      <td>2</td>\n",
       "    </tr>\n",
       "    <tr>\n",
       "      <th>11</th>\n",
       "      <td>43</td>\n",
       "      <td>1</td>\n",
       "      <td>0</td>\n",
       "      <td>4</td>\n",
       "    </tr>\n",
       "    <tr>\n",
       "      <th>12</th>\n",
       "      <td>26</td>\n",
       "      <td>0</td>\n",
       "      <td>1</td>\n",
       "      <td>3</td>\n",
       "    </tr>\n",
       "    <tr>\n",
       "      <th>13</th>\n",
       "      <td>26</td>\n",
       "      <td>0</td>\n",
       "      <td>1</td>\n",
       "      <td>0</td>\n",
       "    </tr>\n",
       "    <tr>\n",
       "      <th>14</th>\n",
       "      <td>28</td>\n",
       "      <td>0</td>\n",
       "      <td>0</td>\n",
       "      <td>1</td>\n",
       "    </tr>\n",
       "    <tr>\n",
       "      <th>15</th>\n",
       "      <td>21</td>\n",
       "      <td>1</td>\n",
       "      <td>0</td>\n",
       "      <td>5</td>\n",
       "    </tr>\n",
       "    <tr>\n",
       "      <th>16</th>\n",
       "      <td>19</td>\n",
       "      <td>1</td>\n",
       "      <td>1</td>\n",
       "      <td>4</td>\n",
       "    </tr>\n",
       "    <tr>\n",
       "      <th>17</th>\n",
       "      <td>22</td>\n",
       "      <td>1</td>\n",
       "      <td>0</td>\n",
       "      <td>4</td>\n",
       "    </tr>\n",
       "    <tr>\n",
       "      <th>18</th>\n",
       "      <td>22</td>\n",
       "      <td>1</td>\n",
       "      <td>0</td>\n",
       "      <td>3</td>\n",
       "    </tr>\n",
       "  </tbody>\n",
       "</table>\n",
       "</div>"
      ],
      "text/plain": [
       "    Age  Gender  F Type  type\n",
       "0    31       1       0     5\n",
       "1    31       1       0     3\n",
       "2    33       1       0     3\n",
       "3    27       1       0     4\n",
       "4    27       1       0     3\n",
       "5    27       1       0     4\n",
       "6    22       0       1     1\n",
       "7    22       1       0     3\n",
       "8    17       0       0     4\n",
       "9    17       0       0     5\n",
       "10   39       1       0     2\n",
       "11   43       1       0     4\n",
       "12   26       0       1     3\n",
       "13   26       0       1     0\n",
       "14   28       0       0     1\n",
       "15   21       1       0     5\n",
       "16   19       1       1     4\n",
       "17   22       1       0     4\n",
       "18   22       1       0     3"
      ]
     },
     "execution_count": 3,
     "metadata": {},
     "output_type": "execute_result"
    }
   ],
   "source": [
    "df = pd.read_csv(\"new_data.csv\")\n",
    "df"
   ]
  },
  {
   "cell_type": "code",
   "execution_count": 4,
   "metadata": {},
   "outputs": [],
   "source": [
    "deals=pd.read_csv(\"Desktop/deals.csv\")\n",
    "k=deals.shape[0]\n",
    "d_type=deals['Type']\n",
    "d_prom=deals['Promotions']\n",
    "an_ans=\"\""
   ]
  },
  {
   "cell_type": "code",
   "execution_count": 5,
   "metadata": {},
   "outputs": [],
   "source": [
    "X = df.drop('type', axis=1)\n",
    "y=df['type']"
   ]
  },
  {
   "cell_type": "markdown",
   "metadata": {},
   "source": [
    "## Spliting the Model"
   ]
  },
  {
   "cell_type": "code",
   "execution_count": 6,
   "metadata": {},
   "outputs": [],
   "source": [
    "from sklearn.model_selection import train_test_split\n",
    "\n",
    "X_train, X_test, y_train, y_test = train_test_split(X, y, test_size=0.2, random_state=0)  "
   ]
  },
  {
   "cell_type": "markdown",
   "metadata": {},
   "source": [
    "## Implementing Decision Tree Algorithm"
   ]
  },
  {
   "cell_type": "code",
   "execution_count": 7,
   "metadata": {},
   "outputs": [],
   "source": [
    "def decision_tree():\n",
    "    from sklearn.tree import DecisionTreeClassifier  \n",
    "    classifier = DecisionTreeClassifier()  \n",
    "    classifier.fit(X_train, y_train)  \n",
    " \n",
    "    g=Gender.get()\n",
    "    \n",
    "    gg=0\n",
    "    \n",
    "    if(g=='M'):\n",
    "        gg=1\n",
    "        \n",
    "    \n",
    "    f=Type.get()\n",
    "    ff=0\n",
    "    \n",
    "    if(f=='I'):\n",
    "        ff=1\n",
    "        \n",
    "    terms=[]\n",
    "        \n",
    "    terms1=[Age.get(),gg,ff]\n",
    "    \n",
    "    terms.append(terms1)\n",
    "    \n",
    "    print(terms)\n",
    "    \n",
    "   \n",
    "    predict = classifier.predict(terms)\n",
    "    temp=predict[0]\n",
    "    \n",
    "    if(int(Age.get())>=35):\n",
    "        temp=6\n",
    "    \n",
    "    ans=\"Relax\"\n",
    "\n",
    "    if(temp==0):\n",
    "        ans=\"Clothing\"\n",
    "        print(\"Clothing\")\n",
    "\n",
    "    elif(temp==1):\n",
    "        ans=\"Cosmetics\"\n",
    "        print(\"Cosmetics\")\n",
    "\n",
    "    elif(temp==2):\n",
    "        ans=\"Electronics\"\n",
    "        print(\"Electronics\")\n",
    "\n",
    "    elif(temp==3):\n",
    "        ans=\"Relax\"\n",
    "        print(\"Relax\")\n",
    "\n",
    "    elif(temp==4):\n",
    "        ans=\"Restaurant\"\n",
    "        print(\"Restaurant\")\n",
    "\n",
    "    elif(temp==5):\n",
    "        ans=\"Shopping\"\n",
    "        print(\"Shopping\")\n",
    "    \n",
    "    global an_ans\n",
    "    an_ans=ans\n",
    "    \n",
    "    print(an_ans)\n",
    "    \n",
    "    t2.delete(\"1.0\", END)\n",
    "    \n",
    "    t2.insert(END, ans)"
   ]
  },
  {
   "cell_type": "markdown",
   "metadata": {},
   "source": [
    "## Implementing Naive Bayes Algorithm"
   ]
  },
  {
   "cell_type": "code",
   "execution_count": 8,
   "metadata": {},
   "outputs": [],
   "source": [
    "def naive_bayes():\n",
    "    from sklearn.naive_bayes import MultinomialNB\n",
    "    classifier = MultinomialNB().fit(X_train, y_train)   \n",
    "    classifier.fit(X_train, y_train)  \n",
    " \n",
    "    g=Gender.get()\n",
    "    \n",
    "    gg=0\n",
    "    \n",
    "    if(g=='M'):\n",
    "        gg=1\n",
    "        \n",
    "    \n",
    "    f=Type.get()\n",
    "    ff=0\n",
    "    \n",
    "    if(f=='I'):\n",
    "        ff=1\n",
    "        \n",
    "    terms=[]\n",
    "        \n",
    "    terms1=[int(Age.get()),gg,ff]\n",
    "    \n",
    "    terms.append(terms1)\n",
    "    \n",
    "    print(terms)\n",
    "    \n",
    "   \n",
    "    predict = classifier.predict(terms)\n",
    "    temp=predict[0]\n",
    "    \n",
    "    \n",
    "    if(int(Age.get())>=35):\n",
    "        temp=6\n",
    "    \n",
    "    if(int(Age.get())>=25 and int(Age.get())<=30 and gg==0):\n",
    "        temp=1\n",
    "    \n",
    "    ans=\"Relax\"\n",
    "    \n",
    "    \n",
    "\n",
    "    if(temp==0):\n",
    "        ans=\"Clothing\"\n",
    "        print(\"Clothing\")\n",
    "\n",
    "    elif(temp==1):\n",
    "        ans=\"Cosmetics\"\n",
    "        print(\"Cosmetics\")\n",
    "\n",
    "    elif(temp==2):\n",
    "        ans=\"Electronics\"\n",
    "        print(\"Electronics\")\n",
    "\n",
    "    elif(temp==3):\n",
    "        ans=\"Relax\"\n",
    "        print(\"Relax\")\n",
    "\n",
    "    elif(temp==4):\n",
    "        ans=\"Restaurant\"\n",
    "        print(\"Restaurant\")\n",
    "\n",
    "    elif(temp==5):\n",
    "        ans=\"Shopping\"\n",
    "        print(\"Shopping\")\n",
    "    \n",
    "    t3.delete(\"1.0\", END)\n",
    "    \n",
    "    t3.insert(END, ans)"
   ]
  },
  {
   "cell_type": "markdown",
   "metadata": {},
   "source": [
    "## Implementing Function for Deals"
   ]
  },
  {
   "cell_type": "code",
   "execution_count": 9,
   "metadata": {},
   "outputs": [],
   "source": [
    "def show_deals():\n",
    "    print(an_ans)\n",
    "    t4.delete(\"1.0\", END)\n",
    "    for i in range(k):\n",
    "        if(d_type[i]==an_ans or d_type[i]=='Relax'):\n",
    "            print(d_prom[i])\n",
    "            t4.insert(END,d_prom[i] + '\\n')\n",
    "            "
   ]
  },
  {
   "cell_type": "markdown",
   "metadata": {},
   "source": [
    "## Initializing Variables"
   ]
  },
  {
   "cell_type": "code",
   "execution_count": 10,
   "metadata": {},
   "outputs": [],
   "source": [
    "f_Name = StringVar()\n",
    "l_Name = StringVar()\n",
    "\n",
    "Age = StringVar()\n",
    "\n",
    "Gender =StringVar()\n",
    "Gender.set(None)\n",
    "\n",
    "Type = StringVar()\n",
    "Type.set(None)"
   ]
  },
  {
   "cell_type": "code",
   "execution_count": 11,
   "metadata": {},
   "outputs": [],
   "source": [
    "l1=['M','F']\n",
    "l2=['I','D']\n",
    "\n",
    "OPTIONS1 = sorted(l1)\n",
    "OPTIONS2 = sorted(l2)"
   ]
  },
  {
   "cell_type": "markdown",
   "metadata": {},
   "source": [
    "## Defining Heading in GUI"
   ]
  },
  {
   "cell_type": "code",
   "execution_count": 12,
   "metadata": {},
   "outputs": [],
   "source": [
    "w2 = Label(root, justify=LEFT, text=\"Location Based Tracking and Personalization\", fg=\"white\", bg=\"red\")\n",
    "w2.config(font=(\"Elephant\", 20))\n",
    "w2.grid(row=1, column=0, columnspan=2, padx=100)\n",
    "w2 = Label(root, justify=LEFT, text=\"Enter the details for best deals and promotions\", fg=\"black\")\n",
    "w2.config(font=(\"Times Roman\", 15))\n",
    "w2.grid(row=2, column=0, columnspan=2, padx=100)"
   ]
  },
  {
   "cell_type": "markdown",
   "metadata": {},
   "source": [
    "## Defining Lables in GUI"
   ]
  },
  {
   "cell_type": "code",
   "execution_count": 13,
   "metadata": {},
   "outputs": [],
   "source": [
    "# labels\n",
    "FNLb = Label(root, text=\"First Name\",fg=\"white\", bg=\"red\")\n",
    "FNLb.grid(row=5, column=0, pady=15, sticky=W)\n",
    "\n",
    "LNLb = Label(root, text=\"Last Name\",fg=\"white\", bg=\"red\")\n",
    "LNLb.grid(row=6, column=0, pady=15, sticky=W)\n",
    "\n",
    "ALb = Label(root, text=\"Age\",fg=\"white\", bg=\"red\")\n",
    "ALb.grid(row=5, column=1, pady=15, sticky=W)\n",
    "\n",
    "GLb = Label(root, text=\"Gender\",fg=\"white\", bg=\"red\")\n",
    "GLb.grid(row=6, column=1, pady=15, sticky=W)\n",
    "\n",
    "TLb = Label(root, text=\"Flight Type\",fg=\"white\", bg=\"red\")\n",
    "TLb.grid(row=7, column=0, pady=15, sticky=W)"
   ]
  },
  {
   "cell_type": "code",
   "execution_count": 14,
   "metadata": {},
   "outputs": [],
   "source": [
    "FNEn = Entry(root, textvariable=f_Name)\n",
    "FNEn.grid(row=5, column=0)\n",
    "\n",
    "LNEn = Entry(root, textvariable=l_Name)\n",
    "LNEn.grid(row=6, column=0)\n",
    "\n",
    "AEn = Entry(root, textvariable=Age)\n",
    "AEn.grid(row=5, column=1, padx=20)\n",
    "\n",
    "GEn = OptionMenu(root, Gender,*OPTIONS1)              \n",
    "GEn.grid(row=6, column=1)\n",
    "\n",
    "TEn = OptionMenu(root, Type,*OPTIONS2)\n",
    "TEn.grid(row=7, column=0)"
   ]
  },
  {
   "cell_type": "markdown",
   "metadata": {},
   "source": [
    "## Defining Lables for Algorithms"
   ]
  },
  {
   "cell_type": "code",
   "execution_count": 15,
   "metadata": {},
   "outputs": [],
   "source": [
    "dectLb = Label(root, text=\"Decision Tree\", fg=\"white\", bg=\"red\")\n",
    "dectLb.grid(row=15, column=0, pady=10, sticky=W)\n",
    "\n",
    "nbLb = Label(root, text=\"Naive Bayes\", fg=\"white\", bg=\"red\")\n",
    "nbLb.grid(row=16, column=0, pady=10, sticky=W)\n",
    "\n",
    "ddLb = Label(root, text=\"Deals\", fg=\"white\", bg=\"red\")\n",
    "ddLb.grid(row=17, column=0, pady=10, sticky=W)"
   ]
  },
  {
   "cell_type": "markdown",
   "metadata": {},
   "source": [
    "## Calling the Algorithms"
   ]
  },
  {
   "cell_type": "code",
   "execution_count": 16,
   "metadata": {},
   "outputs": [],
   "source": [
    "dt = Button(root, text=\"Check the result\", command=decision_tree,bg=\"red\",fg=\"white\")\n",
    "dt.grid(row=15, column=1,padx=10)\n",
    "\n",
    "nb = Button(root, text=\"Check the result\", command=naive_bayes,bg=\"red\",fg=\"white\")\n",
    "nb.grid(row=16, column=1,padx=10)\n",
    "\n",
    "nb = Button(root, text=\"Show Deals\", command=show_deals,bg=\"red\",fg=\"white\")\n",
    "nb.grid(row=17, column=1,padx=10)"
   ]
  },
  {
   "cell_type": "code",
   "execution_count": null,
   "metadata": {},
   "outputs": [
    {
     "name": "stdout",
     "output_type": "stream",
     "text": [
      "[['21', 1, 0]]\n",
      "Shopping\n",
      "Shopping\n",
      "[[21, 1, 0]]\n",
      "Restaurant\n",
      "Shopping\n",
      "Complete pack of HALDIRAM Namkeens\n",
      "Buy 1 and Get 1 Coupon on next time shopping\n",
      "Liquor Buy one and get 45% off\n",
      "5% off with debit card upto Rs. 700\n",
      "flat Rs.500 off \n"
     ]
    }
   ],
   "source": [
    "t2 = Text(root, height=1, width=50,bg=\"white\",fg=\"black\")\n",
    "t2.grid(row=15, column=0 , padx=50)\n",
    "\n",
    "t3 = Text(root, height=1, width=50,bg=\"white\",fg=\"black\")\n",
    "t3.grid(row=16, column=0 , padx=50)\n",
    "\n",
    "t4 = Text(root, height=7, width=50,bg=\"white\",fg=\"black\")\n",
    "t4.grid(row=17, column=0 , padx=50, pady=20)\n",
    "\n",
    "\n",
    "root.mainloop()"
   ]
  }
 ],
 "metadata": {
  "kernelspec": {
   "display_name": "Python 3",
   "language": "python",
   "name": "python3"
  },
  "language_info": {
   "codemirror_mode": {
    "name": "ipython",
    "version": 3
   },
   "file_extension": ".py",
   "mimetype": "text/x-python",
   "name": "python",
   "nbconvert_exporter": "python",
   "pygments_lexer": "ipython3",
   "version": "3.7.4"
  }
 },
 "nbformat": 4,
 "nbformat_minor": 2
}
